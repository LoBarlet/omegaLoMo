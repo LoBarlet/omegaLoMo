{
 "cells": [
  {
   "cell_type": "markdown",
   "metadata": {},
   "source": [
    "## Packages for the pipeline"
   ]
  },
  {
   "cell_type": "code",
   "execution_count": 9,
   "metadata": {
    "collapsed": false
   },
   "outputs": [
    {
     "name": "stdout",
     "output_type": "stream",
     "text": [
      "The autoreload extension is already loaded. To reload it, use:\n",
      "  %reload_ext autoreload\n"
     ]
    }
   ],
   "source": [
    "import sys\n",
    "sys.path.append('/Users/lbarlet/Desktop/omegaLoMo/lib/')\n",
    "import networkx as nx\n",
    "import numpy as np\n",
    "import core as ca\n",
    "import createTopo as cT\n",
    "\n",
    "import matplotlib.pyplot as plt\n",
    "import copy\n",
    "%load_ext autoreload"
   ]
  },
  {
   "cell_type": "markdown",
   "metadata": {},
   "source": [
    "## Creating Topology"
   ]
  },
  {
   "cell_type": "markdown",
   "metadata": {},
   "source": [
    ">*database* is the path to your database (Mitab format) \n",
    "\n",
    ">*filterIds* correspond to a list of ids which manage to detect an homologue in your Query list\n",
    "\n",
    "\n",
    "\n",
    "<div class=\"alert alert-warning\">\n",
    "This may take a while for big database\n",
    "</div>"
   ]
  },
  {
   "cell_type": "code",
   "execution_count": 10,
   "metadata": {
    "collapsed": false
   },
   "outputs": [],
   "source": [
    "database = \"/Volumes/arwen/home/lbarlet/WorkOnIntact/subset_intact.txt\"\n",
    "filterIds = \"/Volumes/arwen/mobi/group/divisome/anaBlast/allInR6OnlyIn\"\n",
    "\n",
    "topo = cT.Topology(database, filterIds)\n",
    "newDic = topo.filter_With(filterIds)"
   ]
  },
  {
   "cell_type": "markdown",
   "metadata": {},
   "source": [
    ">*newDic* is the filtered and reduced topology of your database\n",
    "\n",
    "This will be used later to construct the **OmegaMatrix**"
   ]
  },
  {
   "cell_type": "code",
   "execution_count": 11,
   "metadata": {
    "collapsed": false
   },
   "outputs": [
    {
     "name": "stdout",
     "output_type": "stream",
     "text": [
      "{'Q9UUL2': ['O14129', 'O14129', 'O14129', 'O14129'], 'Q9LJR3': ['Q9LJR3', 'Q94BM7', 'Q94BM7', 'Q9LJR3'], 'Q13418': ['Q9BWU0', 'Q9BWU0', 'Q9BWU0', 'Q9BWU0', 'Q9BWU0', 'Q9BWU0', 'Q9NVD7', 'P49023', 'Q9BWU0'], 'Q9A8N4': ['P0CAV8', 'P0CAV8', 'Q9A8N4', 'Q9A8N4', 'Q9A8N4', 'P0CAV8', 'P0CAV8', 'Q9A8N4', 'Q9A8N4'], 'Q9SYX2': ['Q9SYX2', 'Q9LJR3', 'Q94BM7', 'Q9LJR3', 'Q94BM7', 'Q9SYX2', 'Q9SYX2'], 'P55072': ['Q9UNN5', 'Q92575', 'Q9BZE9'], 'P36592': ['P36592'], 'P36601': ['P41410', 'P36601', 'P36601', 'Q9UUL2', 'Q9UUL2', 'P36592'], 'Q94BM7': ['Q94BM7', 'Q94BM7'], 'Q84TE6': ['Q84TE6'], 'Q7L0Q8': ['Q14289', 'Q14289', 'Q14289', 'Q05397', 'Q14289', 'Q13153']}\n"
     ]
    }
   ],
   "source": [
    "print newDic"
   ]
  },
  {
   "cell_type": "markdown",
   "metadata": {},
   "source": [
    "## Processing data"
   ]
  },
  {
   "cell_type": "markdown",
   "metadata": {},
   "source": [
    "Here, you have to use the examples files provide in the git depository.\n",
    "\n",
    "These files correspond to some subset and can be use on this notebook as a quick way to familiarise yourself with the pipeline\n",
    "\n",
    ">*indexR6* is a list of UniprotId corresponding to the proteome of your organims\n",
    "\n",
    ">*bean* is a serialized version of a small dataset, corresponding to a topology\n"
   ]
  },
  {
   "cell_type": "code",
   "execution_count": 13,
   "metadata": {
    "collapsed": false,
    "deletable": true,
    "editable": true
   },
   "outputs": [],
   "source": [
    "indexR6 = '/Volumes/arwen/mobi/group/divisome/anaBlast/indexR6'\n",
    "omegaSet = ca.HomegaSet(bean='/Volumes/arwen/mobi/group/divisome/exampleFiles/ser.json',\n",
    "                        queryIdList=indexR6)"
   ]
  },
  {
   "cell_type": "markdown",
   "metadata": {},
   "source": [
    "Organising the HomegaSet to an **OmegaMatrix** by deleting template wich doesn't bring back queries of interest. \n",
    "\n",
    "The **OmegaMatrix** will project from the template space to a matrix of queries to identify all interactions the queries."
   ]
  },
  {
   "cell_type": "code",
   "execution_count": null,
   "metadata": {
    "collapsed": false,
    "deletable": true,
    "editable": true,
    "scrolled": true
   },
   "outputs": [],
   "source": [
    "omegaMatrix = ca.OmegaMatrix(topo = newDic, omegaSet = omegaSet)\n",
    "omegaMatrix.reduceAndVectorInject()\n",
    "queryTopo = omegaMatrix.project()"
   ]
  },
  {
   "cell_type": "markdown",
   "metadata": {},
   "source": [
    "## Selection of proteins of interest  "
   ]
  },
  {
   "cell_type": "markdown",
   "metadata": {},
   "source": [
    ">*divR6Known* is a downloaded list from uniprot with the \"cell division\" GO term selected\n",
    "\n",
    "<div class=\"alert alert-info\">\n",
    "    You can check out the list <a href=http://www.uniprot.org/uniprot/?query=taxonomy:%22Streptococcus%20pneumoniae%20(strain%20ATCC%20BAA-255%20/%20R6)%20[171101]%22+go:51301> here\n",
    "</div>\n"
   ]
  },
  {
   "cell_type": "code",
   "execution_count": 8,
   "metadata": {
    "collapsed": false,
    "deletable": true,
    "editable": true
   },
   "outputs": [],
   "source": [
    "divR6Known = '/Volumes/arwen/mobi/group/divisome/divKnownR6.txt'\n",
    "onlyId = []\n",
    "with open (divR6Known, 'r') as file_div:\n",
    "    for i in xrange(1):\n",
    "        file_div.next()\n",
    "    for line in file_div:\n",
    "        sLine = line.split(\"\\t\")\n",
    "        onlyId.append(sLine[0])"
   ]
  },
  {
   "cell_type": "markdown",
   "metadata": {},
   "source": [
    "Here, you can check if the parsing works fine\n",
    "\n",
    "The next cell is suppose to print your Id list with Uniprot identifier"
   ]
  },
  {
   "cell_type": "code",
   "execution_count": 7,
   "metadata": {
    "collapsed": false
   },
   "outputs": [
    {
     "name": "stdout",
     "output_type": "stream",
     "text": [
      "['Q8CWP9', 'Q8DQM0', 'P64073', 'Q8DQE5', 'P64167', 'Q8DR70', 'Q8DR57', 'Q8DNE8', 'Q8DNI9', 'Q9EUQ7', 'Q8DNS0', 'Q8DR29', 'Q7ZAK7', 'Q8DR55', 'Q8DPV4', 'Q8DP40', 'Q8DR69', 'Q8CWQ5', 'Q8DQM2', 'Q8DQM1', 'P65467', 'P59676', 'Q8DPW6', 'Q8DQH3', 'Q8DNV6', 'Q8DQH4', 'Q8DNV8', 'Q8DQE8', 'Q8CZ65', 'Q8DPK2', 'Q8DNV9']\n"
     ]
    }
   ],
   "source": [
    "print onlyId"
   ]
  },
  {
   "cell_type": "markdown",
   "metadata": {
    "deletable": true,
    "editable": true
   },
   "source": [
    "## Graphs Functions"
   ]
  },
  {
   "cell_type": "code",
   "execution_count": null,
   "metadata": {
    "collapsed": false,
    "deletable": true,
    "editable": true
   },
   "outputs": [],
   "source": [
    "def serializeGraph(graphEdge, path):\n",
    "    \n",
    "    jsonStruct = {\"Query\" : {}}\n",
    "    print graphEdge\n",
    "    for query, nodes in graphEdge.iteritems():\n",
    "        jsonStruct[\"Query\"][query.query] = {\"nodesEdge\" : {} }\n",
    "        for node, param in nodes.iteritems():\n",
    "            print param\n",
    "            jsonStruct[\"Query\"][query.query][\"nodesEdge\"][node.query] = {\"lowQueryParam\" : [low for low in param[\"lowQueryParam\"]],\n",
    "                                                                         \"highQueryParam\" : [high for high in param[\"highQueryParam\"]]}\n",
    "            \n",
    "        \n",
    "    json.dump(jsonStruct, file(path, 'w'))\n",
    "    "
   ]
  },
  {
   "cell_type": "code",
   "execution_count": null,
   "metadata": {
    "collapsed": true,
    "deletable": true,
    "editable": true
   },
   "outputs": [],
   "source": [
    "def drawNeiTopo(neighbors_dict):\n",
    "    print \"Liste des 1ers voisine:\\n\"\n",
    "    for node in neighbors_dict:\n",
    "        print ', '.join([neighbor.query for neighbor in neighbors_dict[node]])"
   ]
  },
  {
   "cell_type": "code",
   "execution_count": null,
   "metadata": {
    "collapsed": false,
    "deletable": true,
    "editable": true
   },
   "outputs": [],
   "source": [
    "def filterGraph(graph, limiteEv = 0):\n",
    "    \n",
    "    G = copy.deepcopy(graph)\n",
    "    \n",
    "    for edge in G.edge:\n",
    "        for node in G[edge].keys():\n",
    "            for i, lowQueryEval in enumerate(G[edge][node]['lowQueryParam']):\n",
    "                \n",
    "                if float(limiteEv) < float(lowQueryEval[4]):\n",
    "                    G.adj[edge][node]['highQueryParam'].pop(i)\n",
    "                    G.adj[edge][node]['lowQueryParam'].pop(i)\n",
    "\n",
    "                    break\n",
    "            \n",
    "            if node in G[edge] and len(G[edge][node]['highQueryParam']) > 0:\n",
    "                for i, highQueryEval in enumerate(G[edge][node]['highQueryParam']):\n",
    "                    if float(limiteEv) < float(highQueryEval[4]):\n",
    "                        G.adj[edge][node]['highQueryParam'].pop(i)\n",
    "                        G.adj[edge][node]['lowQueryParam'].pop(i)\n",
    "            \n",
    "                        break\n",
    "            \n",
    "            if len(G.adj[edge][node]['highQueryParam']) <= 0 and len(G.adj[edge][node]['lowQueryParam']) <= 0:\n",
    "                del G.adj[edge][node]\n",
    "                \n",
    "        # Remove Node with no interactions\n",
    "    \n",
    "    for node in G.node.keys():\n",
    "        if not G.neighbors(node):\n",
    "            G.remove_node(node)\n",
    "    \n",
    "    \n",
    "    nx.draw_networkx(G, node_color = color_map, with_labels = True)\n",
    "    plt.show()"
   ]
  },
  {
   "cell_type": "code",
   "execution_count": null,
   "metadata": {
    "collapsed": false,
    "deletable": true,
    "editable": true
   },
   "outputs": [],
   "source": [
    "#Get the coordinates from the miniMatrix of homologPair interations\n",
    "#blacklist = '/Users/mbachir/Desktop/omegaLoMo/R6R6InIntact'\n",
    "\n",
    "def drawGraph(queryTopo):\n",
    "\n",
    "    G=nx.Graph()\n",
    "    for interaction in queryTopo.getEdges(blacklist=None):\n",
    "        G.add_edge(interaction['lowQuery'], interaction['highQuery'], \n",
    "                   lowQueryParam = [lowQueryEval for lowQueryEval in interaction['loQueryEval']] ,\n",
    "                   highQueryParam = [highQueryEval for highQueryEval in interaction['hiQueryEval']])\n",
    "    \n",
    "    # Remove Node with no interactions\n",
    "    \n",
    "    for node in G.node.keys():\n",
    "        if not G.neighbors(node):\n",
    "            G.remove_node(node)\n",
    "\n",
    "    \n",
    "    #for ID in onlyId:\n",
    "        #print ID + \"\\n ---- \\n\"\n",
    "    if onlyId[1] in queryTopo.dictQuery:\n",
    "        #drawNeiTopo({ID : G.neighbors(queryTopo.dictQuery[ID][0])})\n",
    "        drawNeiGraph(queryTopo.dictQuery, \n",
    "                     {queryTopo.dictQuery['Q8DR55'][0] : G.neighbors(queryTopo.dictQuery['Q8DR55'][0])})\n",
    "        \n",
    "    else:\n",
    "        print 'Key not present'\n",
    "    \n",
    "    #pos = nx.spring_layout(G,scale=9)\n",
    "    #nx.draw_networkx(G, pos, node_color = color_map, with_labels = True)\n",
    "    #plt.show()\n",
    "    return G"
   ]
  },
  {
   "cell_type": "code",
   "execution_count": null,
   "metadata": {
    "collapsed": false,
    "deletable": true,
    "editable": true
   },
   "outputs": [],
   "source": [
    "def drawNeiGraph(dictQuery, edges_dict):\n",
    "    G=nx.Graph()\n",
    "    \n",
    "    # Déclaration des variables\n",
    "    neighborParam = []\n",
    "    queryParam = []\n",
    "    for query in edges_dict:\n",
    "        \n",
    "        for qt in dictQuery[query.query]:\n",
    "            if not qt.param in queryParam:\n",
    "                queryParam.append(qt.param)\n",
    "        \n",
    "        for neighbor in edges_dict[query]:\n",
    "            #del neighborParam[:]\n",
    "            \n",
    "            for qt in dictQuery[neighbor.query]:\n",
    "                if not qt.param in neighborParam:\n",
    "                    neighborParam.append(qt.param)\n",
    "            \n",
    "            # Création de edges\n",
    "        G.add_edge(query, neighbor, \n",
    "                lowQueryParam = queryParam,\n",
    "                highQueryParam = neighborParam)\n",
    "    \n",
    "    #serializeGraph(G.edge, \"/Users/mbachir/Desktop/omegaLoMo/testGraph/test.json\")\n",
    "    plt.show()"
   ]
  },
  {
   "cell_type": "code",
   "execution_count": null,
   "metadata": {
    "collapsed": false,
    "deletable": true,
    "editable": true,
    "scrolled": false
   },
   "outputs": [],
   "source": [
    "#range_list = np.linspace(float(2.51425e-20), float(2.51425e-02))\n",
    "#print range_list\n",
    "\n",
    "G = drawGraph(queryTopo)\n",
    "\n",
    "#dic = {'A': {'B': [{'loQueryParam': [u'1', u'538', u'157', u'69', u'2.2272e-56'], 'hiQueryParam': [u'1', u'318', u'109', u'62', u'4.29381e-29']}], 'C': [{'loQueryParam': [u'1', u'538', u'157', u'69', u'2.2272e-56'], 'hiQueryParam': [u'94', u'244', u'43', u'23', u'3.07111e-05']}]}}\n",
    "#print list(dic['A']['B'])\n",
    "#pos = nx.spring_layout(G,k=0.15,iterations=20)\n",
    "\n",
    "#for limite in range_list:\n",
    "    #filterGraph(G, limite)"
   ]
  }
 ],
 "metadata": {
  "kernelspec": {
   "display_name": "Python 2",
   "language": "python",
   "name": "python2"
  },
  "language_info": {
   "codemirror_mode": {
    "name": "ipython",
    "version": 2
   },
   "file_extension": ".py",
   "mimetype": "text/x-python",
   "name": "python",
   "nbconvert_exporter": "python",
   "pygments_lexer": "ipython2",
   "version": "2.7.13"
  }
 },
 "nbformat": 4,
 "nbformat_minor": 2
}
