{
 "cells": [
  {
   "cell_type": "markdown",
   "metadata": {},
   "source": [
    "<img src=\"./pictures/logomegalomo.png\" alt=\"Drawing\" style=\"width: 300px;\"/>"
   ]
  },
  {
   "cell_type": "markdown",
   "metadata": {},
   "source": [
    "<img src=\"./pictures/FullPipeline.png\" alt=\"Drawing\" style=\"width: 1000px;\"/>"
   ]
  },
  {
   "cell_type": "markdown",
   "metadata": {},
   "source": [
    "# Using the Pipeline with serialized dataSet"
   ]
  },
  {
   "cell_type": "markdown",
   "metadata": {},
   "source": [
    "## Packages for the pipeline"
   ]
  },
  {
   "cell_type": "markdown",
   "metadata": {},
   "source": [
    "First the general packages for the pipeline"
   ]
  },
  {
   "cell_type": "code",
   "execution_count": 8,
   "metadata": {
    "collapsed": false
   },
   "outputs": [
    {
     "name": "stdout",
     "output_type": "stream",
     "text": [
      "The autoreload extension is already loaded. To reload it, use:\n",
      "  %reload_ext autoreload\n"
     ]
    }
   ],
   "source": [
    "import sys\n",
    "import networkx as nx\n",
    "import numpy as np\n",
    "import matplotlib.pyplot as plt\n",
    "import copy\n",
    "import json\n",
    "%load_ext autoreload"
   ]
  },
  {
   "cell_type": "markdown",
   "metadata": {},
   "source": [
    "Then, the pipeline itself\n",
    "\n",
    "You have to write the path to your OmegaLoMo lib directory"
   ]
  },
  {
   "cell_type": "code",
   "execution_count": 9,
   "metadata": {
    "collapsed": false
   },
   "outputs": [],
   "source": [
    "sys.path.append('/Users/lbarlet/Desktop/omegaLoMo/lib/')\n",
    "import core as ca\n",
    "import createTopo as cT\n",
    "import graph as graph"
   ]
  },
  {
   "cell_type": "markdown",
   "metadata": {},
   "source": [
    "## Creating Topology"
   ]
  },
  {
   "cell_type": "markdown",
   "metadata": {},
   "source": [
    "<img src=\"./pictures/Preprocessing.png\" alt=\"Drawing\" style=\"width: 200px;\"/>"
   ]
  },
  {
   "cell_type": "markdown",
   "metadata": {},
   "source": [
    ">*database* is the path to your database (Mitab format) \n",
    "\n",
    ">*filterIds* correspond to a list of ids which manage to detect an homologue in your Query list\n",
    "\n",
    "\n",
    "\n",
    "\n",
    ">*newDic.json* contain a serialized version of a physical interactions described in Intact.\n",
    "TAILLE + VISUEL (DIAG VENNES)"
   ]
  },
  {
   "cell_type": "code",
   "execution_count": 10,
   "metadata": {
    "collapsed": false
   },
   "outputs": [],
   "source": [
    "database = \"/Volumes/arwen/mobi/group/divisome/physical_intact.mitab.txt\"\n",
    "filterIds = \"/Volumes/arwen/mobi/group/divisome/anaBlast/allInR6OnlyIn\"\n",
    "\n",
    "entireTopo = cT.Topology(database, filterIds)\n",
    "newDic = entireTopo.deSerialize('/Volumes/arwen/mobi/group/divisome/newDic.json')"
   ]
  },
  {
   "cell_type": "markdown",
   "metadata": {},
   "source": [
    ">*newDic* is the filtered and reduced topology of your database\n",
    "\n",
    "This will be used later to construct the **OmegaMatrix**"
   ]
  },
  {
   "cell_type": "markdown",
   "metadata": {},
   "source": [
    "## Processing data"
   ]
  },
  {
   "cell_type": "markdown",
   "metadata": {},
   "source": [
    "<img src=\"./pictures/Analysis.png\" alt=\"Drawing\" style=\"width: 200px;\"/>"
   ]
  },
  {
   "cell_type": "markdown",
   "metadata": {},
   "source": [
    "Here, you have to use the examples files provide in the git depository.\n",
    "\n",
    "These files correspond to some subset and can be use on this notebook as a quick way to familiarise yourself with the pipeline\n",
    "\n",
    ">*indexR6* is a list of UniprotId corresponding to the proteome of your organims\n",
    "\n",
    ">*bean* is a serialized version of a small dataset, corresponding to a topology\n",
    "\n",
    ">*path* is the path to a directory with some blast.out files (in xml format)"
   ]
  },
  {
   "cell_type": "code",
   "execution_count": 12,
   "metadata": {
    "collapsed": true
   },
   "outputs": [],
   "source": [
    "indexR6 = '/Volumes/arwen/mobi/group/divisome/anaBlast/indexR6'"
   ]
  },
  {
   "cell_type": "markdown",
   "metadata": {},
   "source": [
    "Use the following cell if you use a serialised version"
   ]
  },
  {
   "cell_type": "code",
   "execution_count": 13,
   "metadata": {
    "collapsed": true
   },
   "outputs": [],
   "source": [
    "omegaSet = ca.HomegaSet(bean='/Volumes/arwen/mobi/group/divisome/FullOmegaSet_coverage.json',\n",
    "                        queryIdList=indexR6)"
   ]
  },
  {
   "cell_type": "markdown",
   "metadata": {},
   "source": [
    "Organising the HomegaSet to an **OmegaMatrix** by deleting template wich doesn't bring back queries of interest. \n",
    "\n",
    "The **OmegaMatrix** will project from the template space to a matrix of queries to identify all interactions the queries."
   ]
  },
  {
   "cell_type": "code",
   "execution_count": 14,
   "metadata": {
    "collapsed": false,
    "deletable": true,
    "editable": true,
    "scrolled": true
   },
   "outputs": [],
   "source": [
    "omegaMatrix = ca.OmegaMatrix(topo = newDic, omegaSet = omegaSet)\n",
    "omegaMatrix.reduceAndVectorInject()\n",
    "queryTopo = omegaMatrix.project()"
   ]
  },
  {
   "cell_type": "markdown",
   "metadata": {},
   "source": [
    "   ## Selection of proteins of interest  "
   ]
  },
  {
   "cell_type": "markdown",
   "metadata": {},
   "source": [
    ">*divR6Known* is a downloaded list from uniprot with the \"cell division\" GO term selected\n",
    "\n",
    "<div class=\"alert alert-info\">\n",
    "    You can check out the list <a href=http://www.uniprot.org/uniprot/?query=taxonomy:%22Streptococcus%20pneumoniae%20(strain%20ATCC%20BAA-255%20/%20R6)%20[171101]%22+go:51301> here\n",
    "</div>"
   ]
  },
  {
   "cell_type": "code",
   "execution_count": 15,
   "metadata": {
    "collapsed": false,
    "deletable": true,
    "editable": true
   },
   "outputs": [],
   "source": [
    "divR6Known = '/Volumes/arwen/mobi/group/divisome/divKnownR6.txt'\n",
    "onlyId = []\n",
    "with open (divR6Known, 'r') as file_div:\n",
    "    for i in xrange(1):\n",
    "        file_div.next()\n",
    "    for line in file_div:\n",
    "        sLine = line.split(\"\\t\")\n",
    "        onlyId.append(sLine[0])"
   ]
  },
  {
   "cell_type": "markdown",
   "metadata": {},
   "source": [
    "Here, you can check if the parsing works fine\n",
    "\n",
    "The next cell is suppose to print your Id list with Uniprot identifier"
   ]
  },
  {
   "cell_type": "code",
   "execution_count": 16,
   "metadata": {
    "collapsed": false
   },
   "outputs": [
    {
     "name": "stdout",
     "output_type": "stream",
     "text": [
      "['Q8CWP9', 'Q8DQM0', 'P64073', 'Q8DQE5', 'P64167', 'Q8DR70', 'Q8DR57', 'Q8DNE8', 'Q8DNI9', 'Q9EUQ7', 'Q8DNS0', 'Q8DR29', 'Q7ZAK7', 'Q8DR55', 'Q8DPV4', 'Q8DP40', 'Q8DR69', 'Q8CWQ5', 'Q8DQM2', 'Q8DQM1', 'P65467', 'P59676', 'Q8DPW6', 'Q8DQH3', 'Q8DNV6', 'Q8DQH4', 'Q8DNV8', 'Q8DQE8', 'Q8CZ65', 'Q8DPK2', 'Q8DNV9']\n"
     ]
    }
   ],
   "source": [
    "print onlyId"
   ]
  },
  {
   "cell_type": "markdown",
   "metadata": {
    "deletable": true,
    "editable": true
   },
   "source": [
    "## Graphs Functions"
   ]
  },
  {
   "cell_type": "markdown",
   "metadata": {},
   "source": [
    "<img src=\"./pictures/Results.png\" alt=\"Drawing\" style=\"width: 200px;\"/>"
   ]
  },
  {
   "cell_type": "code",
   "execution_count": 17,
   "metadata": {
    "collapsed": true
   },
   "outputs": [],
   "source": [
    "interactome = graph.Interactome(queryTopo)\n",
    "test = interactome.drawGraph()"
   ]
  },
  {
   "cell_type": "code",
   "execution_count": 25,
   "metadata": {
    "collapsed": false
   },
   "outputs": [
    {
     "data": {
      "image/png": "[encoded data removed]",
      "text/plain": [
       "<matplotlib.figure.Figure at 0x1279cfe90>"
      ]
     },
     "metadata": {},
     "output_type": "display_data"
    }
   ],
   "source": [
    "#test = interactome.deserializeGraph(\"/Users/mbachir/Desktop/omegaLoMo/testGraph/Q8DR55.json\")\n",
    "premierVoisin = interactome.createNeiGraph('Q8DR55', test)\n",
    "drawPremierVoisin = interactome.drawNeiGraph(premierVoisin)\n",
    "filtre = interactome.filterGraph(drawPremierVoisin, evalue = 2.2272e-10, coverage = 90)\n",
    "stats = interactome.drawCurveParam(premierVoisin)\n",
    "plt.show()"
   ]
  },
  {
   "cell_type": "code",
   "execution_count": 26,
   "metadata": {
    "collapsed": false
   },
   "outputs": [
    {
     "data": {
      "image/png": "[encoded data removed]",
      "text/plain": [
       "<matplotlib.figure.Figure at 0x119bfebd0>"
      ]
     },
     "metadata": {},
     "output_type": "display_data"
    }
   ],
   "source": [
    "nx.draw_networkx(drawPremierVoisin, with_labels = True)\n",
    "plt.show()"
   ]
  },
  {
   "cell_type": "markdown",
   "metadata": {},
   "source": [
    "# Using your own DataSet"
   ]
  },
  {
   "cell_type": "markdown",
   "metadata": {},
   "source": [
    "<div class=\"alert alert-danger\">\n",
    "This might take a while for big database\n",
    "</div>"
   ]
  },
  {
   "cell_type": "code",
   "execution_count": null,
   "metadata": {
    "collapsed": true
   },
   "outputs": [],
   "source": [
    "database = \"/Volumes/arwen/mobi/group/divisome/physical_intact.mitab.txt\"\n",
    "filterIds = \"/Volumes/arwen/mobi/group/divisome/anaBlast/allInR6OnlyIn\"\n",
    "\n",
    "topo = cT.Topology(database, filterIds)\n",
    "newDic = topo.filter_With(filterIds)"
   ]
  },
  {
   "cell_type": "code",
   "execution_count": null,
   "metadata": {
    "collapsed": true
   },
   "outputs": [],
   "source": [
    "indexR6 = '/Volumes/arwen/mobi/group/divisome/anaBlast/indexR6'"
   ]
  },
  {
   "cell_type": "code",
   "execution_count": null,
   "metadata": {
    "collapsed": true
   },
   "outputs": [],
   "source": [
    "Use the following cell if you start from multiple blast (format xml)\n",
    "\n",
    "<div class=\"alert alert-warning\">\n",
    "    This step recquire more time, cause it's parsing all blast output\n",
    "</div>"
   ]
  },
  {
   "cell_type": "code",
   "execution_count": null,
   "metadata": {
    "collapsed": true
   },
   "outputs": [],
   "source": [
    "omegaSet = ca.HomegaSet(path='/Volumes/arwen/mobi/group/divisome/UsineBlastArrayIntact_vs_R6/IntactVsR6/swork/Q5/',\n",
    "                        queryIdList=indexR6)"
   ]
  },
  {
   "cell_type": "code",
   "execution_count": null,
   "metadata": {
    "collapsed": true
   },
   "outputs": [],
   "source": [
    "divR6Known = '/Volumes/arwen/mobi/group/divisome/divKnownR6.txt'\n",
    "onlyId = []\n",
    "with open (divR6Known, 'r') as file_div:\n",
    "    for i in xrange(1):\n",
    "        file_div.next()\n",
    "    for line in file_div:\n",
    "        sLine = line.split(\"\\t\")\n",
    "        onlyId.append(sLine[0])"
   ]
  }
 ],
 "metadata": {
  "kernelspec": {
   "display_name": "Python 2",
   "language": "python",
   "name": "python2"
  },
  "language_info": {
   "codemirror_mode": {
    "name": "ipython",
    "version": 2
   },
   "file_extension": ".py",
   "mimetype": "text/x-python",
   "name": "python",
   "nbconvert_exporter": "python",
   "pygments_lexer": "ipython2",
   "version": "2.7.13"
  }
 },
 "nbformat": 4,
 "nbformat_minor": 2
}
