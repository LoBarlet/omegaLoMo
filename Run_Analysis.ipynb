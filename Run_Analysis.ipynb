{
 "cells": [
  {
   "cell_type": "markdown",
   "metadata": {},
   "source": [
    "## Packages for the pipeline"
   ]
  },
  {
   "cell_type": "markdown",
   "metadata": {},
   "source": [
    "First the general packages for the pipeline"
   ]
  },
  {
   "cell_type": "code",
   "execution_count": 76,
   "metadata": {
    "collapsed": false
   },
   "outputs": [
    {
     "name": "stdout",
     "output_type": "stream",
     "text": [
      "The autoreload extension is already loaded. To reload it, use:\n",
      "  %reload_ext autoreload\n"
     ]
    }
   ],
   "source": [
    "import sys\n",
    "import networkx as nx\n",
    "import numpy as np\n",
    "import matplotlib.pyplot as plt\n",
    "import copy\n",
    "import json\n",
    "%load_ext autoreload"
   ]
  },
  {
   "cell_type": "markdown",
   "metadata": {},
   "source": [
    "Then, the pipeline itself\n",
    "\n",
    "You have to write the path to your OmegaLoMo lib directory"
   ]
  },
  {
   "cell_type": "code",
   "execution_count": 30,
   "metadata": {
    "collapsed": true
   },
   "outputs": [],
   "source": [
    "sys.path.append('/Users/lbarlet/Desktop/omegaLoMo/lib/')\n",
    "import core as ca\n",
    "import createTopo as cT"
   ]
  },
  {
   "cell_type": "markdown",
   "metadata": {},
   "source": [
    "## Creating Topology"
   ]
  },
  {
   "cell_type": "markdown",
   "metadata": {},
   "source": [
    ">*database* is the path to your database (Mitab format) \n",
    "\n",
    ">*filterIds* correspond to a list of ids which manage to detect an homologue in your Query list\n",
    "\n",
    "\n",
    "\n",
    "<div class=\"alert alert-warning\">\n",
    "This might take a while for big database\n",
    "</div>"
   ]
  },
  {
   "cell_type": "code",
   "execution_count": 31,
   "metadata": {
    "collapsed": false
   },
   "outputs": [],
   "source": [
    "database = \"/Volumes/arwen/mobi/group/divisome/test_sub.txt\"\n",
    "filterIds = \"/Volumes/arwen/mobi/group/divisome/anaBlast/allInR6OnlyIn\"\n",
    "\n",
    "topo = cT.Topology(database, filterIds)\n",
    "newDic = topo.filter_With(filterIds)"
   ]
  },
  {
   "cell_type": "markdown",
   "metadata": {},
   "source": [
    ">*newDic* is the filtered and reduced topology of your database\n",
    "\n",
    "This will be used later to construct the **OmegaMatrix**"
   ]
  },
  {
   "cell_type": "code",
   "execution_count": 32,
   "metadata": {
    "collapsed": false
   },
   "outputs": [
    {
     "name": "stdout",
     "output_type": "stream",
     "text": [
      "{'P60174': ['P08047', 'P00533', 'Q9Y234', 'Q9GZR7'], 'Q8CK83': ['P01857', 'O94842', 'P29401', 'Q9ULX6', 'Q86WJ1'], 'A0A0H2UNG3': ['A0A0H2UNW4', 'A0A0H2UNW4', 'A0A0H2UNW4', 'A0A0H2UNW4'], 'P32912': ['P39981'], 'P41092': ['Q9VM49', 'Q9W2M5', 'Q9VR29', 'Q7K3Z6', 'P54623', 'Q9VRS6', 'Q9VVU4', 'Q29R10'], 'Q9W2M5': ['O46100', 'P29613', 'Q9VMV9', 'Q9VEN1'], 'P20936': ['P17544', 'Q5NEE2', 'P10275', 'P10275', 'P10275', 'P10275', 'P10275', 'P10275', 'P10275', 'P10275', 'P10275', 'P10275', 'P10275', 'P10275', 'P10275', 'P10275', 'P10275', 'P10275', 'P10721', 'P10721', 'P10721', 'P10721', 'P10721', 'P08581', 'P08581', 'P10721', 'P10721', 'P10721', 'P10721', 'P10721', 'P10721', 'P10721', 'P10721', 'P10721', 'P10721', 'P10721', 'P08581', 'P08581', 'P08581', 'P08581', 'P08581', 'P08581', 'P08581', 'P08581', 'P08581', 'P08581', 'P08581', 'P08581', 'P08581', 'Q92574', 'P01112'], 'O83429': ['O83887'], 'P31016': ['P28572', 'P28572', 'P28572-2', 'P28572-2', 'P28572-2'], 'Q92574': ['Q14457', 'Q16539', 'Q16539', 'Q81L14', 'Q81WL8', 'Q81TY9', 'Q81JK1', 'Q5NID1', 'Q5NF14', 'Q9NP31', 'Q8TB24', 'Q9NP31', 'Q86SQ7', 'Q92574', 'P60709', 'P62736', 'P23246', 'O00303', 'Q02833', 'O14920', 'O14920', 'O14920', 'P61981']}\n"
     ]
    }
   ],
   "source": [
    "print newDic"
   ]
  },
  {
   "cell_type": "markdown",
   "metadata": {},
   "source": [
    "## Processing data"
   ]
  },
  {
   "cell_type": "markdown",
   "metadata": {},
   "source": [
    "Here, you have to use the examples files provide in the git depository.\n",
    "\n",
    "These files correspond to some subset and can be use on this notebook as a quick way to familiarise yourself with the pipeline\n",
    "\n",
    ">*indexR6* is a list of UniprotId corresponding to the proteome of your organims\n",
    "\n",
    ">*bean* is a serialized version of a small dataset, corresponding to a topology\n",
    "\n",
    ">*path* is the path to a directory with some blast.out files (in xml format)"
   ]
  },
  {
   "cell_type": "code",
   "execution_count": 106,
   "metadata": {
    "collapsed": true
   },
   "outputs": [],
   "source": [
    "indexR6 = '/Volumes/arwen/mobi/group/divisome/anaBlast/indexR6'"
   ]
  },
  {
   "cell_type": "markdown",
   "metadata": {},
   "source": [
    "Use the following cell if you use a serialised version"
   ]
  },
  {
   "cell_type": "code",
   "execution_count": 107,
   "metadata": {
    "collapsed": true
   },
   "outputs": [],
   "source": [
    "omegaSet = ca.HomegaSet(bean='/Volumes/arwen/mobi/group/divisome/anaBlast/fullIntactInteractionOmega.json',\n",
    "                        queryIdList=indexR6)"
   ]
  },
  {
   "cell_type": "markdown",
   "metadata": {},
   "source": [
    "Use the following cell if you start from multiple blast"
   ]
  },
  {
   "cell_type": "code",
   "execution_count": 102,
   "metadata": {
    "collapsed": false,
    "deletable": true,
    "editable": true
   },
   "outputs": [],
   "source": [
    "omegaSet = ca.HomegaSet(path='/Volumes/arwen/mobi/group/divisome/exampleFiles/subset_Blast/',\n",
    "                        queryIdList=indexR6)"
   ]
  },
  {
   "cell_type": "markdown",
   "metadata": {},
   "source": [
    "Organising the HomegaSet to an **OmegaMatrix** by deleting template wich doesn't bring back queries of interest. \n",
    "\n",
    "The **OmegaMatrix** will project from the template space to a matrix of queries to identify all interactions the queries."
   ]
  },
  {
   "cell_type": "code",
   "execution_count": 108,
   "metadata": {
    "collapsed": false,
    "deletable": true,
    "editable": true,
    "scrolled": true
   },
   "outputs": [],
   "source": [
    "omegaMatrix = ca.OmegaMatrix(topo = newDic, omegaSet = omegaSet)\n",
    "omegaMatrix.reduceAndVectorInject()\n",
    "queryTopo = omegaMatrix.project()"
   ]
  },
  {
   "cell_type": "markdown",
   "metadata": {},
   "source": [
    "   ## Selection of proteins of interest  "
   ]
  },
  {
   "cell_type": "markdown",
   "metadata": {},
   "source": [
    ">*divR6Known* is a downloaded list from uniprot with the \"cell division\" GO term selected\n",
    "\n",
    "<div class=\"alert alert-info\">\n",
    "    You can check out the list <a href=http://www.uniprot.org/uniprot/?query=taxonomy:%22Streptococcus%20pneumoniae%20(strain%20ATCC%20BAA-255%20/%20R6)%20[171101]%22+go:51301> here\n",
    "</div>\n"
   ]
  },
  {
   "cell_type": "code",
   "execution_count": 109,
   "metadata": {
    "collapsed": false,
    "deletable": true,
    "editable": true
   },
   "outputs": [],
   "source": [
    "divR6Known = '/Volumes/arwen/mobi/group/divisome/divKnownR6.txt'\n",
    "onlyId = []\n",
    "with open (divR6Known, 'r') as file_div:\n",
    "    for i in xrange(1):\n",
    "        file_div.next()\n",
    "    for line in file_div:\n",
    "        sLine = line.split(\"\\t\")\n",
    "        onlyId.append(sLine[0])"
   ]
  },
  {
   "cell_type": "markdown",
   "metadata": {},
   "source": [
    "Here, you can check if the parsing works fine\n",
    "\n",
    "The next cell is suppose to print your Id list with Uniprot identifier"
   ]
  },
  {
   "cell_type": "code",
   "execution_count": 110,
   "metadata": {
    "collapsed": false
   },
   "outputs": [
    {
     "name": "stdout",
     "output_type": "stream",
     "text": [
      "['Q8CWP9', 'Q8DQM0', 'P64073', 'Q8DQE5', 'P64167', 'Q8DR70', 'Q8DR57', 'Q8DNE8', 'Q8DNI9', 'Q9EUQ7', 'Q8DNS0', 'Q8DR29', 'Q7ZAK7', 'Q8DR55', 'Q8DPV4', 'Q8DP40', 'Q8DR69', 'Q8CWQ5', 'Q8DQM2', 'Q8DQM1', 'P65467', 'P59676', 'Q8DPW6', 'Q8DQH3', 'Q8DNV6', 'Q8DQH4', 'Q8DNV8', 'Q8DQE8', 'Q8CZ65', 'Q8DPK2', 'Q8DNV9']\n"
     ]
    }
   ],
   "source": [
    "print onlyId"
   ]
  },
  {
   "cell_type": "markdown",
   "metadata": {
    "deletable": true,
    "editable": true
   },
   "source": [
    "## Graphs Functions"
   ]
  },
  {
   "cell_type": "code",
   "execution_count": 111,
   "metadata": {
    "collapsed": false,
    "deletable": true,
    "editable": true
   },
   "outputs": [],
   "source": [
    "def serializeGraph(queryCenter, graphEdge, path):\n",
    "    \n",
    "    jsonStruct = {\"Queries\" : {}}\n",
    "    for query, nodes in graphEdge.iteritems():\n",
    "        if query.query == queryCenter:\n",
    "            jsonStruct[\"Queries\"][query.query] = {}\n",
    "            for node, param in nodes.iteritems():\n",
    "                jsonStruct[\"Queries\"][query.query][node.query] = {\"lowQueryParam\" : [low for low in param[\"lowQueryParam\"]],\n",
    "                                                                         \"highQueryParam\" : [high for high in param[\"highQueryParam\"]]}\n",
    "            \n",
    "        \n",
    "    json.dump(jsonStruct, file(path, 'w'))\n",
    "    "
   ]
  },
  {
   "cell_type": "code",
   "execution_count": 112,
   "metadata": {
    "collapsed": true
   },
   "outputs": [],
   "source": [
    "def deserializeGraph(beanPath):\n",
    "    G=nx.Graph()\n",
    "    nx.draw_networkx(G, with_labels = True)\n",
    "    \n",
    "    with open (beanPath, 'r') as file:\n",
    "        data = json.load(file)\n",
    "        for query in data['Queries']:\n",
    "            for neighbor, param in data['Queries'][query].iteritems():\n",
    "                    # Création de edges\n",
    "                G.add_edge(queryTopo.dictQuery[query][0], queryTopo.dictQuery[neighbor][0], \n",
    "                           lowQueryParam = [low for low in param['lowQueryParam']],\n",
    "                           highQueryParam = [high for high in param['highQueryParam']])\n",
    "    nx.draw_networkx(G, with_labels = True)\n",
    "\n",
    "    return G"
   ]
  },
  {
   "cell_type": "code",
   "execution_count": 113,
   "metadata": {
    "collapsed": true,
    "deletable": true,
    "editable": true
   },
   "outputs": [],
   "source": [
    "def drawNeiTopo(neighbors_dict):\n",
    "    print \"Liste des 1ers voisine:\\n\"\n",
    "    for node in neighbors_dict:\n",
    "        print ', '.join([neighbor.query for neighbor in neighbors_dict[node]])"
   ]
  },
  {
   "cell_type": "code",
   "execution_count": 114,
   "metadata": {
    "collapsed": false,
    "deletable": true,
    "editable": true
   },
   "outputs": [],
   "source": [
    "def filterGraph(graph, **kwargs):\n",
    "    \n",
    "    coverage = 0\n",
    "    identity = 0\n",
    "    \n",
    "    for param in kwargs:\n",
    "        if param == 'coverage':\n",
    "            coverage = kwargs['coverage']\n",
    "        if param == 'identity':\n",
    "            identity = kwargs['identity']\n",
    "    \n",
    "    G = copy.deepcopy(graph)\n",
    "    \n",
    "    for edge in G.edge:\n",
    "        for node in G[edge].keys():\n",
    "            for i, lowQueryEval in enumerate(G[edge][node]['lowQueryParam']):\n",
    "                    \n",
    "                coverPerCent = (int(lowQueryEval[3]) * 100) / (int(lowQueryEval[1]) - int(lowQueryEval[0])) \n",
    "               \n",
    "                if float(kwargs['evalue']) > float(lowQueryEval[4]) and float(coverage) > float(coverPerCent): \n",
    "                    G.adj[edge][node]['highQueryParam'].pop(i)\n",
    "                    G.adj[edge][node]['lowQueryParam'].pop(i)\n",
    "\n",
    "                    break\n",
    "            \n",
    "            if node in G[edge] and len(G[edge][node]['highQueryParam']) > 0:\n",
    "                for i, highQueryEval in enumerate(G[edge][node]['highQueryParam']):\n",
    "                    \n",
    "                    coverPerCent = (int(highQueryEval[3]) * 100) / (int(highQueryEval[1]) - int(highQueryEval[0]))\n",
    "\n",
    "                    if float(kwargs['evalue']) > float(highQueryEval[4]) and float(coverage) > float(coverPerCent):\n",
    "                        G.adj[edge][node]['highQueryParam'].pop(i)\n",
    "                        G.adj[edge][node]['lowQueryParam'].pop(i)\n",
    "                        break\n",
    "\n",
    "            # If there is two highQ or lowQ value for the same node\n",
    "            if len(G.adj[edge][node]['highQueryParam']) <= 0 or len(G.adj[edge][node]['lowQueryParam']) <= 0:\n",
    "                del G.adj[edge][node]\n",
    "                \n",
    "        # Remove Node with no interactions\n",
    "    \n",
    "    for node in G.node.keys():\n",
    "        if not G.neighbors(node):\n",
    "            G.remove_node(node)\n",
    "    \n",
    "    #for nodeA, nodeB in G.edge.iteritems():\n",
    "    #    for node, param in nodeB.iteritems():\n",
    "    #        print nodeA.query, node.query, param\n",
    "            \n",
    "    nx.draw_networkx(G, with_labels = True)\n",
    "    return G"
   ]
  },
  {
   "cell_type": "code",
   "execution_count": 127,
   "metadata": {
    "collapsed": false,
    "deletable": true,
    "editable": true
   },
   "outputs": [],
   "source": [
    "#Get the coordinates from the miniMatrix of homologPair interations\n",
    "#blacklist = '/Users/mbachir/Desktop/omegaLoMo/R6R6InIntact'\n",
    "\n",
    "def drawGraph(queryTopo):\n",
    "\n",
    "    G=nx.Graph()\n",
    "    for interaction in queryTopo.getEdges(blacklist=None):\n",
    "        G.add_edge(interaction['lowQuery'], interaction['highQuery'], \n",
    "                   lowQueryParam = [lowQueryEval for lowQueryEval in interaction['loQueryEval']] ,\n",
    "                   highQueryParam = [highQueryEval for highQueryEval in interaction['hiQueryEval']])\n",
    "    \n",
    "    # Remove Node with no interactions\n",
    "    \n",
    "    for node in G.node.keys():\n",
    "        if not G.neighbors(node):\n",
    "            G.remove_node(node)\n",
    "    \n",
    "    \n",
    "    #for ID in onlyId:\n",
    "        #print ID + \"\\n ---- \\n\"\n",
    "    if \"Q8DR55\" in queryTopo.dictQuery:\n",
    "        #drawNeiTopo({ID : G.neighbors(queryTopo.dictQuery[ID][0])})\n",
    "        drawNeiGraph('Q8DR55', G.edge)\n",
    "        \n",
    "    else:\n",
    "        print 'Key not present'\n",
    "    \n",
    "    #pos = nx.spring_layout(G,scale=9)\n",
    "    #nx.draw_networkx(G, pos, node_color = color_map, with_labels = True)\n",
    "    #plt.show()\n",
    "    #for query in G.edge:\n",
    "        #for neighbor, param in G.edge[query].iteritems():\n",
    "            #print query.query, neighbor.query, neighbor.template, param\n",
    "    return G"
   ]
  },
  {
   "cell_type": "code",
   "execution_count": 116,
   "metadata": {
    "collapsed": false,
    "deletable": true,
    "editable": true
   },
   "outputs": [],
   "source": [
    "def drawNeiGraph(queryCenter, edges_dict):\n",
    "    G=nx.Graph()\n",
    "    \n",
    "    # Déclaration des variables\n",
    "    neighborParam = []\n",
    "    queryParam = []\n",
    "    \n",
    "    for query in edges_dict:\n",
    "        if query.query == queryCenter:\n",
    "            for neighbor, param in edges_dict[query].iteritems():\n",
    "                # Création de edges\n",
    "                G.add_edge(query, neighbor, \n",
    "                    lowQueryParam = param['lowQueryParam'],\n",
    "                    highQueryParam = param['highQueryParam'])\n",
    "    \n",
    "    #serializeGraph(queryCenter, G.edge, \"/mobi/group/divisome/\"+queryCenter+\".json\")\n",
    "    #for nodeA, nodeB in G.edge.iteritems():\n",
    "    #    for node, param in nodeB.iteritems():\n",
    "    #        print nodeA.query, node.query, param\n",
    "    nx.draw_networkx(G, with_labels = True)\n",
    "    plt.show()"
   ]
  },
  {
   "cell_type": "code",
   "execution_count": 128,
   "metadata": {
    "collapsed": false
   },
   "outputs": [
    {
     "data": {
      "image/png": "[encoded data removed]",
      "text/plain": [
       "<matplotlib.figure.Figure at 0x114d8f710>"
      ]
     },
     "metadata": {},
     "output_type": "display_data"
    }
   ],
   "source": [
    "G = drawGraph(queryTopo)\n",
    "#test = deserializeGraph(\"/Users/mbachir/Desktop/omegaLoMo/testGraph/Q8DR55.json\")\n",
    "plt.show(G)"
   ]
  }
 ],
 "metadata": {
  "kernelspec": {
   "display_name": "Python 2",
   "language": "python",
   "name": "python2"
  },
  "language_info": {
   "codemirror_mode": {
    "name": "ipython",
    "version": 2
   },
   "file_extension": ".py",
   "mimetype": "text/x-python",
   "name": "python",
   "nbconvert_exporter": "python",
   "pygments_lexer": "ipython2",
   "version": "2.7.13"
  }
 },
 "nbformat": 4,
 "nbformat_minor": 2
}
